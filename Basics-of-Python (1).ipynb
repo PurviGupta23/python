{
 "cells": [
  {
   "cell_type": "code",
   "execution_count": 1,
   "metadata": {},
   "outputs": [
    {
     "name": "stdout",
     "output_type": "stream",
     "text": [
      "Hello World\n"
     ]
    }
   ],
   "source": [
    "# The blue colour outside the cell represents command mode.\n",
    "# And the green colour indicates edit mode.\n",
    "# Press 'Esc' to get into command mode.\n",
    "# Press 'Enter' to go back into edit mode.\n",
    "# Press 'P' to view the list of all available commands.\n",
    "print (\"Hello World\")"
   ]
  },
  {
   "cell_type": "code",
   "execution_count": 2,
   "metadata": {},
   "outputs": [
    {
     "name": "stdin",
     "output_type": "stream",
     "text": [
      "Enter your name:  p\n"
     ]
    },
    {
     "name": "stdout",
     "output_type": "stream",
     "text": [
      "Hello, p\n"
     ]
    }
   ],
   "source": [
    "# This is a coding cell.\n",
    "# Let's write your first Python program here.\n",
    "\n",
    "Name = input(\"Enter your name: \")\n",
    "print(\"Hello,\", Name)\n",
    "\n",
    "# Press 'Shift + Enter' to execute the cell."
   ]
  },
  {
   "cell_type": "code",
   "execution_count": 3,
   "metadata": {},
   "outputs": [
    {
     "name": "stdout",
     "output_type": "stream",
     "text": [
      "Hello World\n"
     ]
    }
   ],
   "source": [
    "# Writing comments in a code cell can sometimes create confusion. Jupyter notebook works both as a notebook and a coding console. \n",
    "# To write explanatory texts, you can use a markdown cell which enables you to format your comments well to create a more\n",
    "# readable code.\n",
    "\n",
    "# Let's now learn about markdown cells, then.\n",
    "# Press 'M' in command mode to convert a code cell to a Markdown cell.\n",
    "print (\"Hello World\")"
   ]
  },
  {
   "cell_type": "markdown",
   "metadata": {},
   "source": [
    "This is a Markdown Cell. Double click on a markdown cell or press 'Enter' to see how it's written. And again, press 'Shift + Enter' to execute the cell.\n",
    "\n",
    "Let's further learn about the various customizations in a markdown cell to create more readable and understandable code."
   ]
  },
  {
   "cell_type": "code",
   "execution_count": 4,
   "metadata": {},
   "outputs": [
    {
     "name": "stdout",
     "output_type": "stream",
     "text": [
      "Hello World\n"
     ]
    }
   ],
   "source": [
    "print (\"Hello World\")"
   ]
  },
  {
   "cell_type": "code",
   "execution_count": 5,
   "metadata": {},
   "outputs": [
    {
     "name": "stdin",
     "output_type": "stream",
     "text": [
      "what's your name p\n"
     ]
    }
   ],
   "source": [
    "name = input (\"what's your name\") "
   ]
  },
  {
   "cell_type": "code",
   "execution_count": 6,
   "metadata": {},
   "outputs": [
    {
     "name": "stdin",
     "output_type": "stream",
     "text": [
      "what's your name p\n"
     ]
    },
    {
     "name": "stdout",
     "output_type": "stream",
     "text": [
      "welcome the new phase of life p\n"
     ]
    }
   ],
   "source": [
    "name = input (\"what's your name\")\n",
    "print (\"welcome the new phase of life\",name)"
   ]
  },
  {
   "cell_type": "code",
   "execution_count": 7,
   "metadata": {},
   "outputs": [
    {
     "name": "stdout",
     "output_type": "stream",
     "text": [
      "0     \n",
      "/     \n",
      "\\I    \n",
      "-\\II  \n",
      "--\\\\III\n",
      "---//////\n"
     ]
    }
   ],
   "source": [
    "print (\"0     \")\n",
    "print (\"/     \")\n",
    "print (\"\\I    \")\n",
    "print (\"-\\\\II  \")\n",
    "print (\"--\\\\\\III\")\n",
    "print (\"---//////\")"
   ]
  },
  {
   "cell_type": "code",
   "execution_count": 8,
   "metadata": {},
   "outputs": [
    {
     "name": "stdout",
     "output_type": "stream",
     "text": [
      "#####\n"
     ]
    }
   ],
   "source": [
    "print (\"#\" * 5)"
   ]
  },
  {
   "cell_type": "code",
   "execution_count": 9,
   "metadata": {},
   "outputs": [
    {
     "name": "stdin",
     "output_type": "stream",
     "text": [
      "what's your name p\n",
      "what's your age 20\n"
     ]
    },
    {
     "name": "stdout",
     "output_type": "stream",
     "text": [
      "welcome p you are 20 years old or 240 months old\n"
     ]
    }
   ],
   "source": [
    "name = input (\"what's your name\")\n",
    "age = input (\"what's your age\")\n",
    "age = int(age)\n",
    "print (\"welcome\", name, \"you are\",age,\"years old or\", age*12, \"months old\" )"
   ]
  },
  {
   "cell_type": "code",
   "execution_count": 10,
   "metadata": {},
   "outputs": [
    {
     "data": {
      "text/plain": [
       "str"
      ]
     },
     "execution_count": 10,
     "metadata": {},
     "output_type": "execute_result"
    }
   ],
   "source": [
    "type (\"integer_num\")"
   ]
  },
  {
   "cell_type": "code",
   "execution_count": 11,
   "metadata": {},
   "outputs": [
    {
     "data": {
      "text/plain": [
       "str"
      ]
     },
     "execution_count": 11,
     "metadata": {},
     "output_type": "execute_result"
    }
   ],
   "source": [
    "type (\"string\")"
   ]
  },
  {
   "cell_type": "code",
   "execution_count": 17,
   "metadata": {},
   "outputs": [
    {
     "name": "stdout",
     "output_type": "stream",
     "text": [
      "<class 'int'>\n",
      "<class 'float'>\n",
      "<class 'str'>\n",
      "<class 'bool'>\n"
     ]
    }
   ],
   "source": [
    "integer_num = 1\n",
    "floating_num = 1.3\n",
    "string = 'Mike'\n",
    "boolean = True\n",
    "\n",
    "print (type(integer_num))\n",
    "print (type(floating_num))\n",
    "print (type(string))\n",
    "print (type(boolean))"
   ]
  },
  {
   "cell_type": "code",
   "execution_count": 18,
   "metadata": {},
   "outputs": [
    {
     "name": "stdout",
     "output_type": "stream",
     "text": [
      "3.0\n"
     ]
    }
   ],
   "source": [
    "x = 3.5\n",
    "print(float(int(x)))"
   ]
  },
  {
   "cell_type": "code",
   "execution_count": 19,
   "metadata": {},
   "outputs": [
    {
     "name": "stdout",
     "output_type": "stream",
     "text": [
      "adition = 7\n"
     ]
    }
   ],
   "source": [
    "a=4\n",
    "b=3\n",
    "print (\"adition =\",a+b)"
   ]
  },
  {
   "cell_type": "code",
   "execution_count": 20,
   "metadata": {},
   "outputs": [
    {
     "name": "stdout",
     "output_type": "stream",
     "text": [
      "-2\n"
     ]
    }
   ],
   "source": [
    "a = 4 % (1 + 9)**2 - 60 // (7 + 2)\n",
    "print(a)"
   ]
  },
  {
   "cell_type": "code",
   "execution_count": 21,
   "metadata": {},
   "outputs": [
    {
     "name": "stdout",
     "output_type": "stream",
     "text": [
      "3.5\n"
     ]
    }
   ],
   "source": [
    "x = 3\n",
    "y = 2.5\n",
    "z = 5\n",
    "print(x + y / z)"
   ]
  },
  {
   "cell_type": "code",
   "execution_count": 22,
   "metadata": {},
   "outputs": [
    {
     "name": "stdin",
     "output_type": "stream",
     "text": [
      "what falvor do you like coconut\n",
      "what do you like to eat in sweet ice-cream\n"
     ]
    }
   ],
   "source": [
    "falvor = input(\"what falvor do you like\")\n",
    "dessert = input(\"what do you like to eat in sweet\")"
   ]
  },
  {
   "cell_type": "code",
   "execution_count": 25,
   "metadata": {},
   "outputs": [
    {
     "name": "stdout",
     "output_type": "stream",
     "text": [
      "you like coconut ice-cream\n"
     ]
    }
   ],
   "source": [
    "print (\"you like\", falvor+' '+dessert)"
   ]
  },
  {
   "cell_type": "code",
   "execution_count": 26,
   "metadata": {},
   "outputs": [
    {
     "data": {
      "text/plain": [
       "'e'"
      ]
     },
     "execution_count": 26,
     "metadata": {},
     "output_type": "execute_result"
    }
   ],
   "source": [
    "x = 'len'\n",
    "x[len(x * 2) - 5]"
   ]
  },
  {
   "cell_type": "code",
   "execution_count": 27,
   "metadata": {},
   "outputs": [
    {
     "name": "stdout",
     "output_type": "stream",
     "text": [
      "['Hello', 'World!']\n"
     ]
    }
   ],
   "source": [
    "a = \"Hello World!\"\n",
    "print(a.split(\" \"))"
   ]
  },
  {
   "cell_type": "code",
   "execution_count": 28,
   "metadata": {},
   "outputs": [
    {
     "data": {
      "text/plain": [
       "'I AM LOWER CASE'"
      ]
     },
     "execution_count": 28,
     "metadata": {},
     "output_type": "execute_result"
    }
   ],
   "source": [
    "small = \"i am lower case\" \n",
    "small.upper()"
   ]
  },
  {
   "cell_type": "code",
   "execution_count": 29,
   "metadata": {},
   "outputs": [
    {
     "name": "stdin",
     "output_type": "stream",
     "text": [
      "what's your name p\n",
      "your year of birth 90\n",
      "how old you are 20\n"
     ]
    },
    {
     "name": "stdout",
     "output_type": "stream",
     "text": [
      "p 90 20\n"
     ]
    }
   ],
   "source": [
    "name = input(\"what's your name\")\n",
    "yob = input(\"your year of birth\")\n",
    "age = input(\"how old you are\")\n",
    "print(name,yob,age)"
   ]
  },
  {
   "cell_type": "markdown",
   "metadata": {},
   "source": [
    "# This is a title\n",
    "## This is a heading\n",
    "### This is a subheading\n",
    "#### This is as small as a heading can get\n",
    "##### The fifth hash makes it Italic. Wow!"
   ]
  },
  {
   "cell_type": "markdown",
   "metadata": {},
   "source": [
    "## Formatting in Markdown cells\n",
    "\n",
    "### Emphasis\n",
    "\n",
    "__\"This will appear bold.\"__\n",
    "\n",
    "**\"So will this.\"**\n",
    "\n",
    "_\"Just one dash makes it italic.\"_\n",
    "\n",
    "*\"And one star on either side as well.\"*\n",
    "\n",
    "***\"This one's both bold and italic.\"***"
   ]
  },
  {
   "cell_type": "markdown",
   "metadata": {},
   "source": [
    "### Monospace Fonts\n",
    "\n",
    "Use a back single quotation mark (\\`) to get monospace fonts.\n",
    "\n",
    "`This text will appear in a monospace font.`\n",
    "`Python is a beautiful language.`\n"
   ]
  },
  {
   "cell_type": "markdown",
   "metadata": {},
   "source": [
    "### Line Breaks\n",
    "\n",
    "Sometimes in the markdown cells, you don't get a line break where you want simply by pressing enter. In such cases use `<br>` to get a manual line break.\n",
    "\n",
    "I want a line break here.\n",
    "But I don't get it. :/\n",
    "<br>\n",
    "So I used a manual line break <br>\n",
    "There we go! :)"
   ]
  },
  {
   "cell_type": "markdown",
   "metadata": {},
   "source": [
    "### Indenting\n",
    "\n",
    "Use `>` to indent your text.\n",
    "\n",
    "This is the first line\n",
    "> This indents the second line.\n",
    ">> This further indents it.\n",
    ">>> And this goes on and on."
   ]
  },
  {
   "cell_type": "markdown",
   "metadata": {},
   "source": [
    "### Bullets and Numbering\n",
    "\n",
    "-  A dash followed by two spaces, i.e. `'-  '` creates a bullet.\n",
    "    -  Pressing a tab before doing the above creates a sub-bullet."
   ]
  },
  {
   "cell_type": "markdown",
   "metadata": {},
   "source": [
    "1. Start with a simple `1. ` (1 followed by a dot and space) to get a numbered list.\n",
    "2. And keep doing it for further numbers.\n",
    "    1. Again, just a tab for the sub-bullet."
   ]
  },
  {
   "cell_type": "markdown",
   "metadata": {},
   "source": [
    "### Coloring\n",
    " \n",
    "-  <font color = blue> This text will be blue. </font>\n",
    "-  <font color = yellow> I hate this color! </font>"
   ]
  },
  {
   "cell_type": "markdown",
   "metadata": {},
   "source": [
    "### Adding an Image\n",
    "\n",
    "You can add an image from the web by using `<img src = \"image_path\">`\n",
    "\n",
    "Example:\n",
    "<img src = \"https://www.upgrad.com/blog/wp-content/uploads/2021/09/upgrad_logo-1.png\">"
   ]
  },
  {
   "cell_type": "markdown",
   "metadata": {},
   "source": [
    "### LaTeX Equations\n",
    "\n",
    "Jupyter notebook also supports LaTeX equations. Use a `$` on either side to write a LaTeX equation.\n",
    "\n",
    "The below example is just a hypothetical equation to explain how you can write LaTeX equations in Jupyter notebook. \n",
    "<br>\n",
    "\n",
    "$(\\frac{a_1}{a_2} + \\frac{a_3}{a_4})^2 = a_5^3$\n",
    "\n",
    "Go through this [link](https://en.wikibooks.org/wiki/LaTeX/Mathematics) if you want to learn the LaTeX syntax. "
   ]
  },
  {
   "cell_type": "markdown",
   "metadata": {},
   "source": [
    "### Basic Commands\n",
    "- That was all about markdown cells. Now let us take a look at the most useful commands that you require every day while coding in the Jupyter notebook.\n",
    "\n",
    "- Command Mode Shortcuts\n",
    "- Esc: To go into command mode\n",
    "- Enter: To go back to edit mode\n",
    "- M: To convert a cell to a markdown cell\n",
    "- Y: To convert a cell back to a code cell\n",
    "- A: To insert new cell above\n",
    "- B: To insert new cell below\n",
    "- D + D: To delete cell\n",
    "- Z: Undo the last operation\n",
    "- F: To find and replace on your code\n",
    "- Shift + Up/Down: To select multiple cells\n",
    "- Space: Scroll notebook downwards\n",
    "- Shift + Space: Scroll notebook upwards\n",
    "- Edit Mode Shortcuts\n",
    "- Shift + Enter: To execute the code in the current cell and go to the next cell\n",
    "- Alt + Enter: To execute the code in the current cell and insert new cell below\n",
    "- Shift + Tab: To get brief documentation of the object that you have just typed in the coding cell\n",
    "- Ctrl + Shift + -: To split the cell at cursor\n",
    "- Shift + M: To merge selected cells\n",
    "- Apart from this, you can also use H to open the list of keyboard shortcuts and even add new shortcuts or customize the existing shortcuts according to your personal requirements."
   ]
  },
  {
   "cell_type": "code",
   "execution_count": null,
   "metadata": {},
   "outputs": [],
   "source": []
  }
 ],
 "metadata": {
  "kernelspec": {
   "display_name": "Python 3 (ipykernel)",
   "language": "python",
   "name": "python3"
  },
  "language_info": {
   "codemirror_mode": {
    "name": "ipython",
    "version": 3
   },
   "file_extension": ".py",
   "mimetype": "text/x-python",
   "name": "python",
   "nbconvert_exporter": "python",
   "pygments_lexer": "ipython3",
   "version": "3.11.7"
  }
 },
 "nbformat": 4,
 "nbformat_minor": 4
}
