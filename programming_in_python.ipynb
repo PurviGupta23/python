{
 "cells": [
  {
   "cell_type": "markdown",
   "id": "c3d579f1-e25b-43f7-94ee-05f85aefcb46",
   "metadata": {},
   "source": [
    "# Basic coding"
   ]
  },
  {
   "cell_type": "markdown",
   "id": "a884f60f-fe8c-4aa6-a8fb-1d658d1fadc6",
   "metadata": {},
   "source": [
    "Que - Swapping- You are given two integer variables,  x and y. You have to swap the values stored in x and y.\n",
    "- Input: Two numbers x and y separated by a comma.\n",
    "- Output: Print 5 lines. The first two lines will have values of variables shown before swapping, and the last two lines will have values of variables shown after swapping. The third line will be blank.\n",
    "- Sample input: 20, 50\n",
    "- Sample output: x before swapping: 20, y before swapping: 50\n",
    "- x after swapping: 50, y after swapping: 20"
   ]
  },
  {
   "cell_type": "code",
   "execution_count": 1,
   "id": "bd76fb73-14c4-4ef5-b445-fcfa5a83151e",
   "metadata": {},
   "outputs": [
    {
     "name": "stdout",
     "output_type": "stream",
     "text": [
      "x before swapping: 20\n",
      "y before swapping: 50\n",
      "\n",
      "x after swapping: 50\n",
      "y after swapping: 20\n"
     ]
    }
   ],
   "source": [
    "in_string ='20,50'\n",
    "mylist = in_string.split(',')\n",
    "x = int(mylist[0])\n",
    "y = int(mylist[1])\n",
    "#print x and y before swapping\n",
    "print('x before swapping: {0}'.format(x))\n",
    "print('y before swapping: {0}'.format(y))\n",
    "#Writing your swapping code here\n",
    "z = x \n",
    "x = y \n",
    "y = z \n",
    "print()\n",
    "#print x and y after swapping\n",
    "print('x after swapping: {0}'.format(x))\n",
    "print('y after swapping: {0}'.format(y))\n"
   ]
  },
  {
   "cell_type": "markdown",
   "id": "6a602deb-1f52-4ab7-9ebb-7ba3070936c3",
   "metadata": {},
   "source": [
    "Que - Even Or Odd - Given an integer, print whether it is Even or Odd.\n",
    "- Input: An integer, Output: 'Even' or 'Odd'\n",
    "- Sample input: 3, Sample output: Odd\n",
    "- Sample input:  6, Sample output: Even"
   ]
  },
  {
   "cell_type": "code",
   "execution_count": 2,
   "id": "2edc245f-2fe8-4387-8b6a-c4775794e827",
   "metadata": {},
   "outputs": [
    {
     "name": "stdin",
     "output_type": "stream",
     "text": [
      "enter an number 15\n"
     ]
    },
    {
     "name": "stdout",
     "output_type": "stream",
     "text": [
      "Odd\n"
     ]
    }
   ],
   "source": [
    "#Take input on your own\n",
    "num=int(input('enter an number'))\n",
    "\n",
    "#start writing your code from here\n",
    "if num%2==0:\n",
    "    print('Even')\n",
    "else:\n",
    "    print('Odd')"
   ]
  },
  {
   "cell_type": "markdown",
   "id": "b592bb7d-8abc-4c22-a85d-ee3ed9355d1d",
   "metadata": {},
   "source": [
    "Que - Beautiful Pretty Sexy- A number k is beautiful if it is of the form 3n+1, is pretty if it is of the form 3n+2 and is sexy if it is of form 3n. Given a number k, print if it is beautiful, pretty or sexy.\n",
    "- Sample input: 21, Sample output: sexy\n",
    "- Sample input: 22, Sample output: beautiful\n",
    "- Sample input: 23, Sample output: pretty"
   ]
  },
  {
   "cell_type": "code",
   "execution_count": 3,
   "id": "d264bb5a-106c-47d8-a346-40285ac69a70",
   "metadata": {},
   "outputs": [
    {
     "name": "stdin",
     "output_type": "stream",
     "text": [
      " 31\n"
     ]
    },
    {
     "name": "stdout",
     "output_type": "stream",
     "text": [
      "beautiful\n"
     ]
    }
   ],
   "source": [
    "#input has been taken for you\n",
    "k=int(input())\n",
    "#check if the number is beautiful, pretty or sexy\n",
    "if k%3 == 1:\n",
    "    print('beautiful')\n",
    "elif k%3 == 2:\n",
    "    print('pretty')\n",
    "else:\n",
    "    print('sexy')"
   ]
  },
  {
   "cell_type": "markdown",
   "id": "dbe5f6be-c8cd-4078-982e-c2577e62589f",
   "metadata": {},
   "source": [
    "Que - Alarm Clock- You're trying to automate your alarm clock by writing a function for it. You're given a day of the week encoded as 1=Mon, 2=Tue, ... 6=Sat, 7=Sun, and whether you are on vacation as a boolean value (a boolean object is either True or False. Google \"booleans python\" to get a better understanding). Based on the day and whether you're on vacation, write a function that returns a time in form of a string indicating when the alarm clock should ring. \n",
    "- When not on a vacation, on weekdays, the alarm should ring at \"7:00\" and on the weekends (Saturday and Sunday) it should ring at \"10:00\". \n",
    "- While on a vacation, it should ring at \"10:00\" on weekdays. On vacation, it should not ring on weekends, that is, it should return \"off\".\n",
    "- Input: The input will be a list of two elements. The first element will be an integer from 1 to 7, and the second element will be a boolean value.\n",
    "- Output: The output will be a string denoting the time alarm will ring or 'off'\n",
    "- Sample input: [7, True], Sample output: off\n",
    "- Sample input: [3, True], Sample output:10:00"
   ]
  },
  {
   "cell_type": "code",
   "execution_count": 4,
   "id": "183ba1be-c737-422c-9d82-c016a2667a42",
   "metadata": {},
   "outputs": [
    {
     "name": "stdin",
     "output_type": "stream",
     "text": [
      "enter list of two elements-> first from 1 to 7 and second should be boolean value True/False 5,False\n"
     ]
    },
    {
     "name": "stdout",
     "output_type": "stream",
     "text": [
      "7:00\n"
     ]
    }
   ],
   "source": [
    "#Take input here\n",
    "#we will take input using ast sys\n",
    "import ast\n",
    "input_str = input('enter list of two elements-> first from 1 to 7 and second should be boolean value True/False')\n",
    "\n",
    "#ast.literal_eval() will evaluate the string and make a data structure for the same\n",
    "#here the input is a list since input is in '[...]', so ast.literal_eval() will\n",
    "#make a list with the same data as passed\n",
    "input_list = ast.literal_eval(input_str)\n",
    "\n",
    "#the data or the two values in list is now changed to separate variables\n",
    "day_of_the_week = input_list[0]    #first element is an integer denoting the day of the week\n",
    "is_on_vacation = input_list[1]     #this is a boolean denoting if its vacation or not\n",
    "# write your code here\n",
    "def alarm_clock(day_of_the_week, is_on_vacation):\n",
    "    weekend = [6,7]\n",
    "    if is_on_vacation:\n",
    "        if day_of_the_week not in weekend:\n",
    "           return '10:00'\n",
    "        else:\n",
    "            return 'off'\n",
    "    else:\n",
    "        if day_of_the_week not in weekend:\n",
    "            return '7:00'\n",
    "        else:\n",
    "            return '10:00'\n",
    "print(alarm_clock(day_of_the_week,is_on_vacation))            \n"
   ]
  },
  {
   "cell_type": "markdown",
   "id": "a8e4e611-11cd-4335-9883-f5699ef38595",
   "metadata": {},
   "source": [
    "Que- Factorial - Factorial is a mathematical function denoted by '!'. It is defined as n factorial = n!= 1*2*3...*(n-1)*n\n",
    "- In this question, you have to make a function that will take an integer as input, and return the factorial of that integer if that integer is greater than or equal to zero and return -1 if the number is less than zero or negative.  Note: the function doesn't return print the factorial but returns it.\n",
    "- Input: An integer n,  Output: The function returns n! if n is greater than or equal to 0.  0! = 1, and the function returns -1 if the number is less than 0.\n",
    "- Sample input: 3, Sample output: 6\n",
    "- Sample input:  -4, Sample output: -1"
   ]
  },
  {
   "cell_type": "code",
   "execution_count": 5,
   "id": "d3ea7b16-1e68-470e-aa30-cc27c954a61e",
   "metadata": {},
   "outputs": [
    {
     "name": "stdin",
     "output_type": "stream",
     "text": [
      " 8\n"
     ]
    },
    {
     "name": "stdout",
     "output_type": "stream",
     "text": [
      "40320\n"
     ]
    }
   ],
   "source": [
    "#take the input here\n",
    "number= int(input())\n",
    "#the function definition starts here\n",
    "def factorial(n):\n",
    "    if n <0:\n",
    "        return '-1'\n",
    "    elif n ==0:\n",
    "        return '1'\n",
    "    else:\n",
    "        a=1\n",
    "        for i in range(1, n+1):\n",
    "            a = a*i \n",
    "        return a\n",
    "#function definition ends here\n",
    "\n",
    "k=factorial(number)\n",
    "print(k)"
   ]
  },
  {
   "cell_type": "markdown",
   "id": "e28b4166-109f-4388-928d-bdfb416aa652",
   "metadata": {},
   "source": [
    "Que- Reverse The Digits - You will be given a number. You have to reverse the digits of the number and print it.\n",
    "- Input: A positive integer greater than zero, Output: The number in reverse order. Check sample outputs for more details.\n",
    "- Sample input: 345200, Sample output: 2543\n",
    "- Sample input: 6752343, Sample output: 3432576"
   ]
  },
  {
   "cell_type": "code",
   "execution_count": 6,
   "id": "4e3d8592-d685-4160-8185-94778c60b6f8",
   "metadata": {},
   "outputs": [
    {
     "name": "stdin",
     "output_type": "stream",
     "text": [
      " 3456\n"
     ]
    },
    {
     "name": "stdout",
     "output_type": "stream",
     "text": [
      "6543\n"
     ]
    }
   ],
   "source": [
    "#take input of the number here\n",
    "n = int(input())\n",
    "r = 0\n",
    "#write code to reverse the number here\n",
    "while(n>0):\n",
    "    r = n%10 + r*10\n",
    "    n = n//10\n",
    "print(r)\n",
    "        "
   ]
  },
  {
   "cell_type": "markdown",
   "id": "5c13be42-7bcd-4fb2-83ea-30cecc7d1ef1",
   "metadata": {},
   "source": [
    "Que- How Many Chocolates? Sanjay loves chocolates. He goes to a shop to buy his favourite chocolate. There he notices there is an offer going on, upon bringing 3 wrappers of the same chocolate, you will get new chocolate for free. If Sanjay has m Rupees. How many chocolates will he be able to eat if each chocolate costs c Rupees?\n",
    "- Input: Two positive integers m and c separated by a comma. The first integer is m and the second integer is c \n",
    "- Output: A single integer denoting the number of chocolates Sanjay was able to eat in total.\n",
    "- Sample input: 15, 2,  Sample output: 10\n",
    "- Explanation: First, he will get 15/2=7 chocolates. He then will return 6 wrappers for 2 chocolates. And lastly, these two wrappers and the one he previously had will get him one more chocolate, making a total of 7+2+1=10 chocolates.\n",
    "- Sample input:3,1, Sample output:4"
   ]
  },
  {
   "cell_type": "code",
   "execution_count": 7,
   "id": "c06c47fb-bf9a-4600-9a48-9d82303f50e3",
   "metadata": {},
   "outputs": [
    {
     "name": "stdin",
     "output_type": "stream",
     "text": [
      "enter two numbers separated by comma 10,5\n"
     ]
    },
    {
     "name": "stdout",
     "output_type": "stream",
     "text": [
      "2\n"
     ]
    }
   ],
   "source": [
    "my_string = input('enter two numbers separated by comma')\n",
    "my_list = my_string.split(',')\n",
    "#take input here\n",
    "m = int(my_list[0])\n",
    "c = int(my_list[1])\n",
    "choc = m//c \n",
    "w = m//c\n",
    "#start writing your code here\n",
    "while w//3!=0:\n",
    "    choc = (choc) + (w//3)\n",
    "    w = (w//3) + (w%3)\n",
    "    \n",
    "#dont forget to print the number of chocolates Sanjay can eat\n",
    "print(choc)"
   ]
  },
  {
   "cell_type": "markdown",
   "id": "da45f18f-6e11-40eb-93af-f345437347cc",
   "metadata": {},
   "source": [
    "Que - Print The Pattern - Printing different patterns is a very good exercise to reinforce iteration through loops and strong logic building. Here you will be given a positive integer and you will generate pattern based on that integer.\n",
    "- Input: A positive integer n  1 <= n <=20, Output: A pattern as described by the Sample input and outputs below."
   ]
  },
  {
   "cell_type": "code",
   "execution_count": 8,
   "id": "ce14178f-f33f-445b-817d-a7b9a1f7ef0f",
   "metadata": {},
   "outputs": [
    {
     "name": "stdin",
     "output_type": "stream",
     "text": [
      "enter an interger 7\n"
     ]
    },
    {
     "name": "stdout",
     "output_type": "stream",
     "text": [
      "      *\n",
      "     *_*\n",
      "    *_*_*\n",
      "   *_*_*_*\n",
      "  *_*_*_*_*\n",
      " *_*_*_*_*_*\n",
      "*_*_*_*_*_*_*\n"
     ]
    }
   ],
   "source": [
    "#please take input here\n",
    "n = int(input('enter an interger'))\n",
    "#start writing your code here\n",
    "for i in range(1,n+1):\n",
    "    for j in range(n-i):\n",
    "        print(' ',end ='')\n",
    "    for k in range(i-1):\n",
    "        print('*_', end='')\n",
    "    print('*')"
   ]
  },
  {
   "cell_type": "code",
   "execution_count": null,
   "id": "f95c4bf9-534c-48d6-88b1-10d96c3760d0",
   "metadata": {},
   "outputs": [],
   "source": []
  },
  {
   "cell_type": "markdown",
   "id": "02729b6b-0498-4324-a3cc-907eb1b45bdc",
   "metadata": {},
   "source": [
    "# List"
   ]
  },
  {
   "cell_type": "markdown",
   "id": "bb35076f-5513-437f-badd-e15d9b80039e",
   "metadata": {},
   "source": [
    "Que- Smallest Element- You have to find and print the smallest element of the list given as input. \n",
    "- Input: A non-empty list of integers, Output: The smallest integer of the input list.\n",
    "- Sample input:[2, -3, 0, 7, 21], Sample output: -3"
   ]
  },
  {
   "cell_type": "code",
   "execution_count": 9,
   "id": "2767bd7a-ef0b-418b-9784-3509423dcb44",
   "metadata": {},
   "outputs": [
    {
     "name": "stdin",
     "output_type": "stream",
     "text": [
      " 4,5,7,2,9\n"
     ]
    },
    {
     "name": "stdout",
     "output_type": "stream",
     "text": [
      "2\n"
     ]
    }
   ],
   "source": [
    "import ast\n",
    "input_str = input('enter list of integers')\n",
    "input_list = ast.literal_eval(input_str)\n",
    "\n",
    "#start writing your code here\n",
    "if len(input_list)==0:\n",
    "    print('no minimum')\n",
    "else:\n",
    "    m=input_list[0]\n",
    "    for item in input_list:\n",
    "        if item < m:\n",
    "            m = item\n",
    "    print(m)"
   ]
  },
  {
   "cell_type": "markdown",
   "id": "3ce88694-8bff-45f4-82b7-3a694048b52f",
   "metadata": {},
   "source": [
    "Que- Above Average - Finding the average of the data and comparing it with other values is often encountered while analysing the data. Here you will do the same thing. The data will be provided to you in a list. You will also be given a number check. You will return whether the number check is above average or no.\n",
    "- Input: A list with two elements: The first element will be the list of data of integers and The second element will be an integer check.\n",
    "- Output:True if check is above average and False otherwise\n",
    "- Sample input:[ [2,4,6,8,10],  4], Sample output:False\n",
    "- Sample input:[ [2,4,6,8,-10],  4], Sample output:True"
   ]
  },
  {
   "cell_type": "code",
   "execution_count": 13,
   "id": "198d51f1-232b-45af-ab28-40cac7409ba0",
   "metadata": {},
   "outputs": [
    {
     "name": "stdin",
     "output_type": "stream",
     "text": [
      " [ [2,4,6,8,10],  4]\n"
     ]
    },
    {
     "name": "stdout",
     "output_type": "stream",
     "text": [
      "False\n"
     ]
    }
   ],
   "source": [
    "#Take input here\n",
    "#we will take input using ast sys\n",
    "import ast\n",
    "input_str = input()\n",
    "input_list = ast.literal_eval(input_str)\n",
    "\n",
    "#Lets see if you can finish taking input on your own\n",
    "data = input_list[0]\n",
    "check = input_list[1]\n",
    "#start writing your code to find if check is above average of data \n",
    "sum = 0\n",
    "for i in data:\n",
    "    sum = sum + i\n",
    "    \n",
    "total = len(data)\n",
    "average = sum / total\n",
    "if average < check:\n",
    "    print('True')\n",
    "else:\n",
    "    print('False')"
   ]
  },
  {
   "cell_type": "markdown",
   "id": "e9ae5dea-5227-4935-8906-df37056cb83a",
   "metadata": {},
   "source": [
    "Que- Recruit New Members - Suppose you are a manager as a big firm and now are looking for new members for your team. You sent out an advertisement and have received a few applications. You have a habit of scoring people on a scale of 100. You have given scores to all the members of your team and the new applications. The process of selection is going to be very straightforward if the applicant improves the average of the team then you hire the applicant to join the team or else reject the application. Remember the order of processing applications is going to be important here.\n",
    "You may see this as an extension of the previous problem, which it is. You may use the code written in the previous question as a function to improve the code quality.\n",
    "- Input: Two lists on two separate lines. The first line will have the list of scores of current team members, The second line will have the list of scores of the applicants.\n",
    "- Output: The list consisting of scores of the final team after hiring from the pool of applicants.\n",
    "- Sample input:[23,45,34,76]  [70,34,94],  Sample output: [23, 45, 34, 76, 70, 94]\n",
    "- Explanation:The first applicant has score 70, and the team average is 44.5 hence the applicant is hired making the team average 49.6\n",
    "- The second applicant has score 34, and the team average is 49.6 hence the applicant is rejected keeping the team average same 49.6\n",
    "- The third applicant has score 94, and the team average is 49.6 hence the applicant is hired making the team average 57\n",
    "- Sample input:[10,20,30,40,50] [30,60,80,40], Sample output:[10, 20, 30, 40, 50, 60, 80]"
   ]
  },
  {
   "cell_type": "code",
   "execution_count": 17,
   "id": "40f52661-a796-4c8a-91de-c227827ff674",
   "metadata": {},
   "outputs": [
    {
     "name": "stdin",
     "output_type": "stream",
     "text": [
      " [10,20,30,40,50]\n",
      " [30,40,60,80]\n"
     ]
    },
    {
     "name": "stdout",
     "output_type": "stream",
     "text": [
      "[10, 20, 30, 40, 50, 40, 60, 80]\n"
     ]
    }
   ],
   "source": [
    "#you have to take input on your own here\n",
    "import ast \n",
    "#write your code here\n",
    "team = ast.literal_eval(input())\n",
    "applicant = ast.literal_eval(input())\n",
    "\n",
    "def check_above_average (data, check):\n",
    "    s = 0\n",
    "    for item in data:\n",
    "        s = s + item\n",
    "    avg = s/ len(data)\n",
    "    if check > avg:\n",
    "        return 1\n",
    "    else:\n",
    "        return 0\n",
    "        \n",
    "for i in applicant:\n",
    "    add = check_above_average(team, i)\n",
    "    if add == 1:\n",
    "        team.append(i)\n",
    "    \n",
    "print(team)"
   ]
  },
  {
   "cell_type": "markdown",
   "id": "df354f68-78d5-4539-99ba-1eb7140d40a6",
   "metadata": {},
   "source": [
    "Que- Calendar - You are planning to go to your friend's wedding and you have long events all month, lasting at least a few days. You have the start and end dates of events and your task is to find out events overlapping with the wedding date. The code for taking input has already been written for you, please don't modify that, but do read and try to understand the way input has been taken. You will be asked to take input on your own for most of the problems here onwards. Taking data in a suitable format is an important skill for a Data Scientist.\n",
    "- Input:The input will contain a list of lists where each sub-list has only two elements representing the start and end date of an event, the start date will be less than or equal to the end date. The next line of input will have a wedding date.  Output:The output should have the number of events overlapping with the wedding date.\n",
    "- Sample input:[ [29,31], [23,26], [24,25] ] , 24, Sample output: 2\n",
    "- Explanation: There are three events in the month. Event 1= from date 29 to 31, Event 2= from date 23 to 26, Event 3= from date 24 to 25, Wedding is on 24. This means it will clash with Event 3 and Event 2, that is two events. The output is therefore 2.\n",
    "- Sample input: [ [1, 4], [7, 10], [8, 8], [14, 23] ] , 26,  Sample output:0"
   ]
  },
  {
   "cell_type": "code",
   "execution_count": 18,
   "id": "a0973f5c-0d59-44e7-a0a2-0457bf218aa9",
   "metadata": {},
   "outputs": [
    {
     "name": "stdin",
     "output_type": "stream",
     "text": [
      " [1,10],[5,10],[3,9]\n",
      " 6\n"
     ]
    },
    {
     "name": "stdout",
     "output_type": "stream",
     "text": [
      "3\n"
     ]
    }
   ],
   "source": [
    "#taking input\n",
    "import ast\n",
    "input_str1 = input()\n",
    "input_list1 = ast.literal_eval(input_str1)\n",
    "events = input_list1\n",
    "\n",
    "wedding = int(input())\n",
    "#start writing from here\n",
    "clash = 0\n",
    "for i in events:\n",
    "    if i[0] <= wedding and i[1] >= wedding:\n",
    "        clash = clash+1\n",
    "print(clash) "
   ]
  },
  {
   "cell_type": "code",
   "execution_count": 15,
   "id": "a7a97a10-1cfc-4228-8b50-02bb578dba1f",
   "metadata": {},
   "outputs": [
    {
     "name": "stdout",
     "output_type": "stream",
     "text": [
      "[1, 0, 0]\n",
      "[0, 0, 0]\n",
      "[0, 0, 0]\n"
     ]
    }
   ],
   "source": [
    "original_list=[0, 0, 0]\n",
    "copy1=original_list\n",
    "copy2=list(original_list)\n",
    "copy3=list.copy(original_list)\n",
    "original_list[0] = 1\n",
    "print(copy1)\n",
    "print(copy2)\n",
    "print(copy3)\n",
    " "
   ]
  },
  {
   "cell_type": "markdown",
   "id": "39752d43-ac48-42b2-b4aa-5ab3b145f0e4",
   "metadata": {},
   "source": [
    "Que- Fenced Matrix - You will be given two positive integers m and n. You have to make a list of lists (which can be visualised as a matrix) of size m*n, that is m sublists (rows), with each sublists having n integers (columns). The matrix should be such that it should have 1 on the border and 0 everywhere else. See sample input and output for more clarification.\n",
    "- Input:  Two integers separated by a comma,  Output:  A list of lists of size m*n printed like matrix as shown in the sample output.\n",
    "- Sample input: 4,5, Sample output:\n",
    "\n",
    "[1, 1, 1, 1, 1]\n",
    "[1, 0, 0, 0, 1]\n",
    "[1, 0, 0, 0, 1]\n",
    "[1, 1, 1, 1, 1]\n",
    "- Sample input:  3,3,  Sample output:\n",
    "\n",
    "[1, 1, 1]\n",
    "[1, 0, 1]\n",
    "[1, 1, 1]\n",
    "- Sample input:  3,2, Sample output:\n",
    "  \n",
    "[1, 1]\n",
    "[1, 1]\n",
    "[1, 1]"
   ]
  },
  {
   "cell_type": "code",
   "execution_count": 19,
   "id": "b266669f-b95b-4be8-b15c-ebdfb6ddf570",
   "metadata": {},
   "outputs": [
    {
     "name": "stdin",
     "output_type": "stream",
     "text": [
      " 4,4\n"
     ]
    },
    {
     "name": "stdout",
     "output_type": "stream",
     "text": [
      "[1, 1, 1, 1]\n",
      "[1, 0, 0, 1]\n",
      "[1, 0, 0, 1]\n",
      "[1, 1, 1, 1]\n"
     ]
    }
   ],
   "source": [
    "#take input on your own here\n",
    "import ast \n",
    "mylist = ast.literal_eval(input())\n",
    "m = mylist[0]\n",
    "n = mylist[1]\n",
    "final = [0]*n\n",
    "final = [list(final)  for i in range(m)]\n",
    "for i in range(m):\n",
    "     for j in range(n):\n",
    "         if i == 0 or j == 0 or i == m-1 or j == n-1:\n",
    "             final[i][j] = 1 \n",
    "for i in final:\n",
    "    print(i)"
   ]
  },
  {
   "cell_type": "markdown",
   "id": "9de83ec4-1b74-4a64-9052-363d0982f0a5",
   "metadata": {},
   "source": [
    "# String"
   ]
  },
  {
   "cell_type": "markdown",
   "id": "a053430e-40b3-46f1-9c8f-f09ae179d38d",
   "metadata": {},
   "source": [
    "Que- Palindrome String - Write a program to check whether a string is a palindrome or not. Print 1 if the string is a palindrome and 0 otherwise. Note: Please ensure that your program should not be case-sensitive. So, if the input is, say, “HAnnah”, then, its output should be 1.\n",
    "- Input : A string,  Output : 1 if the string is a palindrome, 0 otherwise\n",
    "- Sample input : HAnnah, Sample output : 1\n",
    "- Sample input : Rebecca, Sample output : 0"
   ]
  },
  {
   "cell_type": "code",
   "execution_count": 20,
   "id": "71dfbd79-7ca7-4c3e-86f2-07113f557dc6",
   "metadata": {},
   "outputs": [
    {
     "name": "stdin",
     "output_type": "stream",
     "text": [
      " HAnnah\n"
     ]
    },
    {
     "name": "stdout",
     "output_type": "stream",
     "text": [
      "1\n"
     ]
    }
   ],
   "source": [
    "# Read the input\n",
    "s = input()\n",
    "#check for palindrome here\n",
    "s = s.lower()\n",
    "r = \"\"\n",
    "for i in s:\n",
    "    r=i+r \n",
    "\n",
    "if s == r:\n",
    "    print(\"1\")\n",
    "else:\n",
    "    print(\"0\")"
   ]
  },
  {
   "cell_type": "markdown",
   "id": "b92433fe-a4ab-4d8e-aa74-87defec372dc",
   "metadata": {},
   "source": [
    "Que- Reverse Words - You will be given a sentence in the form of a string. You have to reverse the order of the words in the sentence. Remember not to reverse the individual words, but the order of words. Check the sample input-output for further clarification.\n",
    "- Input: A string, which will consist of a few spaces.  Output: The words in reverse order.\n",
    "- Sample input: I love coding in python, Sample output: python in coding love I\n",
    "- Sample input: python is super easy and fun, Sample output: fun and easy super is python"
   ]
  },
  {
   "cell_type": "code",
   "execution_count": 16,
   "id": "68629962-d16f-4625-8370-1b40cfd1f67e",
   "metadata": {},
   "outputs": [
    {
     "name": "stdin",
     "output_type": "stream",
     "text": [
      "I love coding in python I love coding in python\n"
     ]
    },
    {
     "name": "stdout",
     "output_type": "stream",
     "text": [
      "python in coding love I\n"
     ]
    }
   ],
   "source": [
    "#take input here\n",
    "# input - I love coding in python\n",
    "sentence=input('')\n",
    "\n",
    "#reverse the words of the sentence here\n",
    "s= sentence.split(\" \")\n",
    "r= s[::-1]\n",
    "# s.reverse()  n =\" \".join(s)\n",
    "n =\" \".join(r)\n",
    "print(n)\n"
   ]
  },
  {
   "cell_type": "markdown",
   "id": "ca192c1b-2581-4176-a10f-df3205557a78",
   "metadata": {},
   "source": [
    "Que- No Spaces - While naming entities, it is a common practice to avoid spaces. That is the reason you see so many people using underscores instead of spaces. You will be given a string, containing a few spaces and random upper and lower cases. You have to write a code that will add underscore in place of spaces and also capitalise the letters properly, i.e. the first letter after underscore should be in upper case and the first letter of the string should be in upper case, all of the other letters should be lower case. This type of activity is frequently encountered while starting to analyse data. This is called Data cleaning.\n",
    "- Input: A string of only alphabets and spaces, Output: A string formatted as stated above. See sample input/output for more clarification,\n",
    "- Sample input: caloRie consuMed, Sample output: Calorie_Consumed\n",
    "- Sample input:data science, Sample output: Data_Science"
   ]
  },
  {
   "cell_type": "code",
   "execution_count": 21,
   "id": "8e70a8a6-ed13-4c4f-9230-506eb927c2d7",
   "metadata": {},
   "outputs": [
    {
     "name": "stdin",
     "output_type": "stream",
     "text": [
      " data science\n"
     ]
    },
    {
     "name": "stdout",
     "output_type": "stream",
     "text": [
      "Data_Science\n"
     ]
    }
   ],
   "source": [
    "#take input here\n",
    "s=input()\n",
    "\n",
    "#write code to format the string s as asked \n",
    "s = s.lower()\n",
    "words = s.split(\" \")\n",
    "f = [i.title() for i in words]\n",
    "f = \"_\".join(f)\n",
    "print(f)"
   ]
  },
  {
   "cell_type": "markdown",
   "id": "c4ecf0e8-639d-4dec-84a5-f62fc5f97fb8",
   "metadata": {},
   "source": [
    "Que- Shift Vowels - Write a program that receives a string and shifts all the vowels present in it to the beginning. Output the resultant string. The order of all the vowels with respect to each other as well as the order of all the other characters with respect to each other should stay the same.\n",
    "- Input: A string, Output: Vowels shifted to the beginning in the input string.\n",
    "- Sample input:programming,  Sample output: oaiprgrmmng\n",
    "- Sample input:You love Python!, Sample output: ouoeoY lv Pythn!\n",
    "- Explanation: All the vowels have been shifted to the beginning in order. The order of all the other characters remains the same."
   ]
  },
  {
   "cell_type": "code",
   "execution_count": 22,
   "id": "7ad82014-b1ea-4d8a-bb51-a0ee6d7eea4a",
   "metadata": {},
   "outputs": [
    {
     "name": "stdin",
     "output_type": "stream",
     "text": [
      " I love Python!\n"
     ]
    },
    {
     "name": "stdout",
     "output_type": "stream",
     "text": [
      "Ioeo lv Pythn!\n"
     ]
    }
   ],
   "source": [
    "s = input()\n",
    "vowels = 'aeiouAEIOU'\n",
    "v =''\n",
    "o = ''\n",
    "for i in s:\n",
    "    if i in vowels:\n",
    "        v = v + i\n",
    "    else:\n",
    "        o = o + i \n",
    "# Read the input string\n",
    "\n",
    "f = v + o \n",
    "print(f)"
   ]
  },
  {
   "cell_type": "markdown",
   "id": "a8fea0a5-afce-4f75-a074-78433312ed7d",
   "metadata": {},
   "source": [
    "Que- Common Prefix - You will be given two strings. You have to find the largest prefix common in both the strings.\n",
    "- Input: Two lines of input, one string on each line, Output: The common largest prefix for both strings. Check sample input/output for clarification. -1 if no prefix is common.\n",
    "- Sample input: abshdksajd, abshiehand,  Sample output: absh\n",
    "- Sample input: upgradData, upGradScience, Sample output: upgrad\n",
    "- Sample input:upgrad, upGradScience, Sample output: upgrad\n",
    "Note: the last sample input/output clearly shows the code is not case sensitive."
   ]
  },
  {
   "cell_type": "code",
   "execution_count": 23,
   "id": "070b66f2-fe4e-4a74-bb14-88d56625b837",
   "metadata": {},
   "outputs": [
    {
     "name": "stdin",
     "output_type": "stream",
     "text": [
      " upgradData\n",
      " upGradScience\n"
     ]
    },
    {
     "name": "stdout",
     "output_type": "stream",
     "text": [
      "upgrad\n"
     ]
    }
   ],
   "source": [
    "#input has been taken for you\n",
    "string1=input()\n",
    "string2=input()\n",
    "s1 = string1.lower()\n",
    "s2 = string2.lower()\n",
    "l1 = len(s1)\n",
    "l2 = len(s2)\n",
    "l3 = min(l1,l2)\n",
    "for i in range(0,l3):\n",
    "    if s1[i] != s2[i]:\n",
    "        break\n",
    "if i == 0 :   # means its the first character and there is no match\n",
    "    print(-1)\n",
    "else:\n",
    "    print(s1[:i])  # printing till ith character as till ith character there was no match\n"
   ]
  },
  {
   "cell_type": "markdown",
   "id": "46cb6d95-68e5-4e66-ad16-90aaf1b733c8",
   "metadata": {},
   "source": [
    "Que- Anagrams - Two strings are anagrams of each other if you can rearrange the characters of one string to make the other string. Given two strings, can you find if they are anagrams or no?\n",
    "- Input: Two lines of input, each line will contain a string without space. Output: True or False based on whether the strings are anagrams or not.\n",
    "- Sample input:thing  night, Sample output: True\n",
    "- Sample input:upgrad  found, Sample output: False\n",
    "- Note: the code will be case-Sensitive, Hint: if the length of the strings doesn't match, the strings are obviously not anagrams."
   ]
  },
  {
   "cell_type": "code",
   "execution_count": 33,
   "id": "2b757693-90cf-4df6-9faa-60494dca5f6c",
   "metadata": {},
   "outputs": [
    {
     "name": "stdin",
     "output_type": "stream",
     "text": [
      " upgrad\n",
      " found\n"
     ]
    },
    {
     "name": "stdout",
     "output_type": "stream",
     "text": [
      "False\n"
     ]
    }
   ],
   "source": [
    "#take input here\n",
    "string1 = input()\n",
    "string2 = input()\n",
    "#code here to check if they are anagrams or no\n",
    "s1 = string1.lower()\n",
    "s2 = string2.lower()\n",
    "\n",
    "l1 =len(s1)\n",
    "l2 = len(s2)\n",
    "\n",
    "if l1 != l2:\n",
    "    print('False')\n",
    "else:\n",
    "    for i in range(l1):\n",
    "        if s1.count(s1[i]) != s2.count(s2[i]):\n",
    "            print('False')\n",
    "    print('True')"
   ]
  },
  {
   "cell_type": "markdown",
   "id": "1e95ce69-b0cc-4f66-a6ad-9c2614709696",
   "metadata": {},
   "source": [
    "# Other Data Structures"
   ]
  },
  {
   "cell_type": "markdown",
   "id": "54854c2f-e579-4cc7-bf36-17f3d9951433",
   "metadata": {},
   "source": [
    "Que- Remove Duplicates - Sometimes the data has few duplicate values which will affect the analysis done. In this problem, you will be given a list. You have to find and delete the duplicates and print the updated list with no duplicates.\n",
    "- Input: A list of integers. Output: A list of integers, with duplicates removed if any.\n",
    "- Sample input:[8, 9, 2, 2, 3, 4, 5, 2], Sample output:[8, 9, 2, 3, 4, 5]\n",
    "- Sample input:[4, 4, 4, 4],  Sample output:[4]\n",
    "Note the order of the data did not change in input and output."
   ]
  },
  {
   "cell_type": "code",
   "execution_count": 34,
   "id": "a8259a69-7869-45ec-bf2f-56b79af93973",
   "metadata": {},
   "outputs": [
    {
     "name": "stdin",
     "output_type": "stream",
     "text": [
      " [8, 9, 2, 2, 3, 4, 5, 2]\n"
     ]
    },
    {
     "name": "stdout",
     "output_type": "stream",
     "text": [
      "[8, 9, 2, 3, 4, 5]\n"
     ]
    }
   ],
   "source": [
    "#take input here\n",
    "import ast \n",
    "my_list = ast.literal_eval(input())\n",
    "#remove duplicates from the list\n",
    "d = {}\n",
    "for items in my_list:\n",
    "    if items not in d:  #if item is not found in dictionary\n",
    "        d[items] = 1  #that item is added in diationary with count as 1\n",
    "\n",
    "#print the list without duplicates\n",
    "print(list(d.keys()))"
   ]
  },
  {
   "cell_type": "markdown",
   "id": "24270fde-d717-47ce-a529-55973df1acab",
   "metadata": {},
   "source": [
    "Que- Dictionary And List - You will be converting a dictionary, of string(keys) and list of string (values),  to a list of strings. Please check the sample input/output for clarification.\n",
    "- Input: A dictionary with keys as strings and values as a list of strings, Output: A list of strings\n",
    "- Sample input: {‘Mobile’: [‘Redmi’, ‘Samsung’, ‘Realme’], ‘Laptop’: [‘Dell’, ‘HP’], ‘TV’: [‘Videocon’, ‘Sony’] }\n",
    "- Sample output: [‘Mobile_Redmi’, ‘Mobile_Samsung’, ‘Mobile_Realme’, ‘Laptop_Dell’, ‘Laptop_HP’, ‘TV_Videocon’, ‘TV_Sony’]\n",
    "- Sample input:{ 'Pen': ['Gel', 'Ink', 'ball'],'Mobile': ['Android', 'apple'] }\n",
    "- Sample output: ['Pen_Gel', 'Pen_Ink', 'Pen_ball', 'Mobile_Android', 'Mobile_apple']"
   ]
  },
  {
   "cell_type": "code",
   "execution_count": 36,
   "id": "e4950747-4196-45d7-8a2b-6fc0a61973b2",
   "metadata": {},
   "outputs": [
    {
     "name": "stdin",
     "output_type": "stream",
     "text": [
      " {'Mobile': ['Redmi', 'Samsung', 'Realme'], 'Laptop': ['Dell', 'HP'], 'TV': ['Videocon', 'Sony'] }\n"
     ]
    },
    {
     "name": "stdout",
     "output_type": "stream",
     "text": [
      "['Mobile_Redmi', 'Mobile_Samsung', 'Mobile_Realme', 'Laptop_Dell', 'Laptop_HP', 'TV_Videocon', 'TV_Sony']\n"
     ]
    }
   ],
   "source": [
    "#input has been taken for you\n",
    "import ast\n",
    "input_str = input()\n",
    "#input dictionary has been received in input_dict\n",
    "input_dict = ast.literal_eval(input_str)\n",
    "#start writing your code here\n",
    "l = []\n",
    "for i in input_dict.keys():\n",
    "    for j in input_dict[i]:\n",
    "        l.append(i+'_'+j)\n",
    "print(l)"
   ]
  },
  {
   "cell_type": "markdown",
   "id": "4e106547-f03a-4d39-bd35-53374dff3018",
   "metadata": {},
   "source": [
    "Que- upGrad String - For the purpose of this question, we will define something called an upGrad string. Note that this definition is not valid outside this question. A string upGrad string if the frequency of its characters is something like 1, 2, 3, 4, .... That is a character appears only once, another appears twice, another appears thrice and so on. For example string '$yrr$ssrsr' is a upGrad string since the frequency of y:1, $:2, s:3, r:4, however string '$yrr$ssrsr%' will not be an upGrad string since it has two characters (y and %) with frequency 1. The frequency of characters should be of form 1, 2, 3, 4, 5... only.\n",
    "Given a string, can you determine if the string is upGrad string or no?\n",
    "- Input: A string, Output: Boolean depending whether the string is upGrad string or not\n",
    "- Sample input: $yrr$ssrsr, Sample output: True\n",
    "- Sample input: $yrr$ssrsr%, Sample output: False\n",
    "- Sample input: ab#ab#aba, Sample output: False\n",
    "- Sample input: ab#ab#ab6a, Sample output: True"
   ]
  },
  {
   "cell_type": "code",
   "execution_count": 45,
   "id": "70a23529-5766-414d-81b7-8544ef845c88",
   "metadata": {},
   "outputs": [
    {
     "name": "stdin",
     "output_type": "stream",
     "text": [
      " $yrr$ssrsr\n"
     ]
    },
    {
     "name": "stdout",
     "output_type": "stream",
     "text": [
      "True\n"
     ]
    }
   ],
   "source": [
    "#input has been taken for you\n",
    "s=input()\n",
    "\n",
    "d = {}\n",
    "for i in s:\n",
    "    if i not in d:\n",
    "        d[i] = 1\n",
    "    else:\n",
    "        d[i] = d[i] + 1\n",
    "\n",
    "v= d.values()\n",
    "n = len(d)\n",
    "def upgrad_string(v):\n",
    "    for i in range(1, n+1):\n",
    "        if i not in v:\n",
    "            return False\n",
    "    return True    \n",
    "\n",
    "print(upgrad_string(v))"
   ]
  },
  {
   "cell_type": "markdown",
   "id": "6bd57b80-06d9-498a-8a6c-437c0b2c8f05",
   "metadata": {},
   "source": [
    "Que- Balanced Brackets - You will be given a string with a lot of brackets. You have to print if the brackets are balanced or not. Remember, there are three types of brackets: ‘( )’,  ‘{ }’ and ‘[ ]’.\n",
    "- Input:A string,  Output: Yes, if the brackets are balanced.  No otherwise.\n",
    "- Sample input: ){[[]]}())(), Sample output: No\n",
    "- Sample input 2:[](){[]()(){}}, Sample output 2: Yes"
   ]
  },
  {
   "cell_type": "code",
   "execution_count": 43,
   "id": "dcc19745-8fa9-4c8b-b1f8-ed74f6c1e6c6",
   "metadata": {},
   "outputs": [
    {
     "name": "stdin",
     "output_type": "stream",
     "text": [
      " [](){[]()(){}}\n"
     ]
    },
    {
     "name": "stdout",
     "output_type": "stream",
     "text": [
      "Yes\n"
     ]
    }
   ],
   "source": [
    "#take input\n",
    "inp=input()\n",
    "stack = []\n",
    "for i in inp:\n",
    "    if len(stack)==0:\n",
    "        stack.append(i)\n",
    "    else:\n",
    "        if i ==')' and stack[-1]== '(':\n",
    "            stack.pop()\n",
    "        elif i =='}' and stack[-1]== '{':\n",
    "            stack.pop()\n",
    "        elif i ==']' and stack[-1]== '[':\n",
    "            stack.pop()\n",
    "        else:\n",
    "            stack.append(i)\n",
    "\n",
    "if stack:\n",
    "    print('No')\n",
    "else:\n",
    "    print('Yes')"
   ]
  }
 ],
 "metadata": {
  "kernelspec": {
   "display_name": "Python 3 (ipykernel)",
   "language": "python",
   "name": "python3"
  },
  "language_info": {
   "codemirror_mode": {
    "name": "ipython",
    "version": 3
   },
   "file_extension": ".py",
   "mimetype": "text/x-python",
   "name": "python",
   "nbconvert_exporter": "python",
   "pygments_lexer": "ipython3",
   "version": "3.11.7"
  }
 },
 "nbformat": 4,
 "nbformat_minor": 5
}
